{
 "cells": [
  {
   "cell_type": "code",
   "execution_count": 1,
   "metadata": {},
   "outputs": [
    {
     "name": "stderr",
     "output_type": "stream",
     "text": [
      "Using TensorFlow backend.\n",
      "F:\\Anaconda\\envs\\keras_env\\lib\\site-packages\\tensorflow\\python\\framework\\dtypes.py:516: FutureWarning: Passing (type, 1) or '1type' as a synonym of type is deprecated; in a future version of numpy, it will be understood as (type, (1,)) / '(1,)type'.\n",
      "  _np_qint8 = np.dtype([(\"qint8\", np.int8, 1)])\n",
      "F:\\Anaconda\\envs\\keras_env\\lib\\site-packages\\tensorflow\\python\\framework\\dtypes.py:517: FutureWarning: Passing (type, 1) or '1type' as a synonym of type is deprecated; in a future version of numpy, it will be understood as (type, (1,)) / '(1,)type'.\n",
      "  _np_quint8 = np.dtype([(\"quint8\", np.uint8, 1)])\n",
      "F:\\Anaconda\\envs\\keras_env\\lib\\site-packages\\tensorflow\\python\\framework\\dtypes.py:518: FutureWarning: Passing (type, 1) or '1type' as a synonym of type is deprecated; in a future version of numpy, it will be understood as (type, (1,)) / '(1,)type'.\n",
      "  _np_qint16 = np.dtype([(\"qint16\", np.int16, 1)])\n",
      "F:\\Anaconda\\envs\\keras_env\\lib\\site-packages\\tensorflow\\python\\framework\\dtypes.py:519: FutureWarning: Passing (type, 1) or '1type' as a synonym of type is deprecated; in a future version of numpy, it will be understood as (type, (1,)) / '(1,)type'.\n",
      "  _np_quint16 = np.dtype([(\"quint16\", np.uint16, 1)])\n",
      "F:\\Anaconda\\envs\\keras_env\\lib\\site-packages\\tensorflow\\python\\framework\\dtypes.py:520: FutureWarning: Passing (type, 1) or '1type' as a synonym of type is deprecated; in a future version of numpy, it will be understood as (type, (1,)) / '(1,)type'.\n",
      "  _np_qint32 = np.dtype([(\"qint32\", np.int32, 1)])\n",
      "F:\\Anaconda\\envs\\keras_env\\lib\\site-packages\\tensorflow\\python\\framework\\dtypes.py:525: FutureWarning: Passing (type, 1) or '1type' as a synonym of type is deprecated; in a future version of numpy, it will be understood as (type, (1,)) / '(1,)type'.\n",
      "  np_resource = np.dtype([(\"resource\", np.ubyte, 1)])\n",
      "F:\\Anaconda\\envs\\keras_env\\lib\\site-packages\\tensorboard\\compat\\tensorflow_stub\\dtypes.py:541: FutureWarning: Passing (type, 1) or '1type' as a synonym of type is deprecated; in a future version of numpy, it will be understood as (type, (1,)) / '(1,)type'.\n",
      "  _np_qint8 = np.dtype([(\"qint8\", np.int8, 1)])\n",
      "F:\\Anaconda\\envs\\keras_env\\lib\\site-packages\\tensorboard\\compat\\tensorflow_stub\\dtypes.py:542: FutureWarning: Passing (type, 1) or '1type' as a synonym of type is deprecated; in a future version of numpy, it will be understood as (type, (1,)) / '(1,)type'.\n",
      "  _np_quint8 = np.dtype([(\"quint8\", np.uint8, 1)])\n",
      "F:\\Anaconda\\envs\\keras_env\\lib\\site-packages\\tensorboard\\compat\\tensorflow_stub\\dtypes.py:543: FutureWarning: Passing (type, 1) or '1type' as a synonym of type is deprecated; in a future version of numpy, it will be understood as (type, (1,)) / '(1,)type'.\n",
      "  _np_qint16 = np.dtype([(\"qint16\", np.int16, 1)])\n",
      "F:\\Anaconda\\envs\\keras_env\\lib\\site-packages\\tensorboard\\compat\\tensorflow_stub\\dtypes.py:544: FutureWarning: Passing (type, 1) or '1type' as a synonym of type is deprecated; in a future version of numpy, it will be understood as (type, (1,)) / '(1,)type'.\n",
      "  _np_quint16 = np.dtype([(\"quint16\", np.uint16, 1)])\n",
      "F:\\Anaconda\\envs\\keras_env\\lib\\site-packages\\tensorboard\\compat\\tensorflow_stub\\dtypes.py:545: FutureWarning: Passing (type, 1) or '1type' as a synonym of type is deprecated; in a future version of numpy, it will be understood as (type, (1,)) / '(1,)type'.\n",
      "  _np_qint32 = np.dtype([(\"qint32\", np.int32, 1)])\n",
      "F:\\Anaconda\\envs\\keras_env\\lib\\site-packages\\tensorboard\\compat\\tensorflow_stub\\dtypes.py:550: FutureWarning: Passing (type, 1) or '1type' as a synonym of type is deprecated; in a future version of numpy, it will be understood as (type, (1,)) / '(1,)type'.\n",
      "  np_resource = np.dtype([(\"resource\", np.ubyte, 1)])\n"
     ]
    }
   ],
   "source": [
    "import numpy as np\n",
    "import matplotlib.pyplot as plt\n",
    "import os\n",
    "import cv2\n",
    "import matplotlib.image as mpimg\n",
    "import pandas as pd\n",
    "import keras\n",
    "from keras.models import Sequential\n",
    "from keras.layers import Dense, Dropout, Flatten\n",
    "from keras.layers import Conv2D, MaxPooling2D\n",
    "from sklearn.metrics import mean_squared_error as mse\n",
    "from numpy import zeros, newaxis\n",
    "import random\n",
    "random.seed(30)\n",
    "\n",
    "GS=os.listdir(\"F:\\\\IIT KANPUR MTECH STUDY MATERIAL\\\\THESIS\\\\Data  of Dyslexic and Non Dyslexic Children in Hindi\\\\GS1\") # Geometerical similar\n",
    "#GS.remove('.DS_Store')\n",
    "PRI=pd.read_excel(\"F:\\\\IIT KANPUR MTECH STUDY MATERIAL\\\\THESIS\\\\Data  of Dyslexic and Non Dyslexic Children in Hindi\\\\PRI.xlsx\")\n",
    "#PRI=pd.read_excel(\"F:\\\\IIT KANPUR MTECH STUDY MATERIAL\\\\THESIS\\\\Data  of Dyslexic and Non Dyslexic Children in Hindi\\\\VCI.xlsx\")\n",
    "PRI=PRI.values\n",
    "A=PRI[:,1].astype(int)\n",
    "ids=PRI[:,0].astype(str)\n",
    "y=np.log10(A)\n",
    "\n",
    "address=\"F:\\\\IIT KANPUR MTECH STUDY MATERIAL\\\\THESIS\\\\Data  of Dyslexic and Non Dyslexic Children in Hindi\\\\GS1\"\n",
    "Train=[]\n",
    "Test=[]\n",
    "Label=[]\n",
    "for i in GS:\n",
    "    word_add=address+'\\\\'+i\n",
    "    words=os.listdir(word_add)\n",
    "    for j in words:\n",
    "        img=cv2.imread(word_add+'\\\\'+j,cv2.IMREAD_GRAYSCALE)\n",
    "        #print(img)\n",
    "        #imgplot = plt.imshow(img)\n",
    "        if j[:6] in ids:\n",
    "            r=np.where(PRI==j[:6])[0]\n",
    "            #print(True)\n",
    "            Train.append(i+'\\\\'+j)\n",
    "            Label.append(y[r[0]])\n",
    "        else:\n",
    "            #print(j)\n",
    "            Test.append(i+'\\\\'+j)"
   ]
  },
  {
   "cell_type": "code",
   "execution_count": 2,
   "metadata": {},
   "outputs": [
    {
     "name": "stdout",
     "output_type": "stream",
     "text": [
      "(23, 410, 30, 1)\n",
      "F:\\IIT KANPUR MTECH STUDY MATERIAL\\THESIS\\Data  of Dyslexic and Non Dyslexic Children in Hindi\\GS1\\vipreet\\P5SM (b) (2).jpg\n",
      "['baccha\\\\G5SM (2).jpg', 'bas\\\\272DM.jpg', 'kya\\\\2323DM (a).jpg', 'kya\\\\G5SM (2).jpg', 'kya\\\\J4SM (2).jpg', 'kya\\\\P5SM (2).jpg', 'kya\\\\U5SM (2).jpg', 'likhkar\\\\AS3SM (2).jpg', 'likhkar\\\\J4SM (2).jpg', 'sabhi\\\\272DM (2).jpg', 'sabhi\\\\272DM (7).jpg', 'sabhi\\\\272DM (8).jpg', 'sabhi\\\\272DM (9).jpg', 'sabhi\\\\272DM.jpg', 'sabhi\\\\282DM (6).jpg', 'sabhi\\\\282DM (7).jpg', 'sabhi\\\\282DM (8).jpg', 'sabhi\\\\282DM (9).jpg', 'sabhi\\\\282DM.jpg', 'us\\\\2455DM.jpg', 'us\\\\U5SM.jpg', 'vipreet\\\\otsu_GS_dys_1.jpg', 'vipreet\\\\P5SM (b) (2).jpg']\n"
     ]
    }
   ],
   "source": [
    "# Arranging test data\n",
    "Xtest=[]\n",
    "for i in range(len(Test)):\n",
    "    j=Test[i]\n",
    "    img=cv2.imread(address+'\\\\'+j,cv2.IMREAD_GRAYSCALE)\n",
    "    resized_image = cv2.resize(img, (30, 410), interpolation=cv2.INTER_NEAREST)\n",
    "    resized_image=resized_image/255  \n",
    "    Xtest.append(resized_image)\n",
    "    \n",
    "Xtest=np.array(Xtest)\n",
    "Xtest= Xtest[..., newaxis]\n",
    "print(Xtest.shape)\n",
    "print(address+'\\\\'+j)\n",
    "print(Test)"
   ]
  },
  {
   "cell_type": "code",
   "execution_count": 3,
   "metadata": {},
   "outputs": [
    {
     "name": "stdout",
     "output_type": "stream",
     "text": [
      "F:\\IIT KANPUR MTECH STUDY MATERIAL\\THESIS\\Data  of Dyslexic and Non Dyslexic Children in Hindi\\GS1\\baccha\\2132DM.jpg\n",
      "F:\\IIT KANPUR MTECH STUDY MATERIAL\\THESIS\\Data  of Dyslexic and Non Dyslexic Children in Hindi\\GS1\\baccha\\2202DM.jpg\n",
      "F:\\IIT KANPUR MTECH STUDY MATERIAL\\THESIS\\Data  of Dyslexic and Non Dyslexic Children in Hindi\\GS1\\bas\\2152DF.jpg\n",
      "F:\\IIT KANPUR MTECH STUDY MATERIAL\\THESIS\\Data  of Dyslexic and Non Dyslexic Children in Hindi\\GS1\\bas\\2222DF.jpg\n",
      "F:\\IIT KANPUR MTECH STUDY MATERIAL\\THESIS\\Data  of Dyslexic and Non Dyslexic Children in Hindi\\GS1\\kya\\2102DF.jpg\n",
      "F:\\IIT KANPUR MTECH STUDY MATERIAL\\THESIS\\Data  of Dyslexic and Non Dyslexic Children in Hindi\\GS1\\kya\\2122DF.jpg\n",
      "F:\\IIT KANPUR MTECH STUDY MATERIAL\\THESIS\\Data  of Dyslexic and Non Dyslexic Children in Hindi\\GS1\\kya\\2212DF.jpg\n",
      "F:\\IIT KANPUR MTECH STUDY MATERIAL\\THESIS\\Data  of Dyslexic and Non Dyslexic Children in Hindi\\GS1\\kya\\2293DM.jpg\n",
      "F:\\IIT KANPUR MTECH STUDY MATERIAL\\THESIS\\Data  of Dyslexic and Non Dyslexic Children in Hindi\\GS1\\kya\\2333DM.jpg\n",
      "F:\\IIT KANPUR MTECH STUDY MATERIAL\\THESIS\\Data  of Dyslexic and Non Dyslexic Children in Hindi\\GS1\\kya\\2404DM.jpg\n",
      "F:\\IIT KANPUR MTECH STUDY MATERIAL\\THESIS\\Data  of Dyslexic and Non Dyslexic Children in Hindi\\GS1\\kya\\2434DF.jpg\n",
      "F:\\IIT KANPUR MTECH STUDY MATERIAL\\THESIS\\Data  of Dyslexic and Non Dyslexic Children in Hindi\\GS1\\kya\\2515DM.jpg\n",
      "F:\\IIT KANPUR MTECH STUDY MATERIAL\\THESIS\\Data  of Dyslexic and Non Dyslexic Children in Hindi\\GS1\\kya\\2525DM.jpg\n",
      "F:\\IIT KANPUR MTECH STUDY MATERIAL\\THESIS\\Data  of Dyslexic and Non Dyslexic Children in Hindi\\GS1\\parivar\\2465DF.jpg\n",
      "F:\\IIT KANPUR MTECH STUDY MATERIAL\\THESIS\\Data  of Dyslexic and Non Dyslexic Children in Hindi\\GS1\\sabhi\\2102DF (2).jpg\n",
      "F:\\IIT KANPUR MTECH STUDY MATERIAL\\THESIS\\Data  of Dyslexic and Non Dyslexic Children in Hindi\\GS1\\sabhi\\2102DF (4).jpg\n",
      "F:\\IIT KANPUR MTECH STUDY MATERIAL\\THESIS\\Data  of Dyslexic and Non Dyslexic Children in Hindi\\GS1\\sabhi\\2102DF.jpg\n",
      "F:\\IIT KANPUR MTECH STUDY MATERIAL\\THESIS\\Data  of Dyslexic and Non Dyslexic Children in Hindi\\GS1\\sabhi\\2132DM.jpg\n",
      "F:\\IIT KANPUR MTECH STUDY MATERIAL\\THESIS\\Data  of Dyslexic and Non Dyslexic Children in Hindi\\GS1\\sabhi\\2202DM (2).jpg\n",
      "F:\\IIT KANPUR MTECH STUDY MATERIAL\\THESIS\\Data  of Dyslexic and Non Dyslexic Children in Hindi\\GS1\\sabhi\\2202DM.jpg\n",
      "F:\\IIT KANPUR MTECH STUDY MATERIAL\\THESIS\\Data  of Dyslexic and Non Dyslexic Children in Hindi\\GS1\\us\\2152DF.jpg\n",
      "F:\\IIT KANPUR MTECH STUDY MATERIAL\\THESIS\\Data  of Dyslexic and Non Dyslexic Children in Hindi\\GS1\\us\\2202DM.jpg\n",
      "F:\\IIT KANPUR MTECH STUDY MATERIAL\\THESIS\\Data  of Dyslexic and Non Dyslexic Children in Hindi\\GS1\\us\\2222DF.jpg\n",
      "F:\\IIT KANPUR MTECH STUDY MATERIAL\\THESIS\\Data  of Dyslexic and Non Dyslexic Children in Hindi\\GS1\\yah\\2152DF.jpg\n",
      "F:\\IIT KANPUR MTECH STUDY MATERIAL\\THESIS\\Data  of Dyslexic and Non Dyslexic Children in Hindi\\GS1\\yah\\2525DM.jpg\n"
     ]
    }
   ],
   "source": [
    "X=[]\n",
    "for i in range(len(Train)):\n",
    "    j=Train[i]\n",
    "    img=cv2.imread(address+'\\\\'+j,cv2.IMREAD_GRAYSCALE)\n",
    "    print(address+'\\\\'+j)\n",
    "    resized_image = cv2.resize(img, (30, 410), interpolation=cv2.INTER_NEAREST)\n",
    "    resized_image=resized_image/255  \n",
    "    X.append(resized_image)\n",
    "    \n",
    "X=np.array(X)\n",
    "#without Augmentation\n",
    "#Xtrain=X[:20,:,:]\n",
    "#X_val=X[20:,:,:]\n",
    "#Ytrain=Label[:20]\n",
    "#Y_val=Label[20:]\n",
    "#With Augmentation\n",
    "Xtrain=X[:90,:,:]\n",
    "X_val=X[90:,:,:]\n",
    "Ytrain=Label[:90]\n",
    "Y_val=Label[90:]\n",
    "######\n",
    "Ytrain=np.reshape(Ytrain,(len(Ytrain),1))\n",
    "Y_val=np.reshape(Y_val,(len(Y_val),1))\n",
    "Xtrain= Xtrain[..., newaxis]\n",
    "X_val=X_val[..., newaxis]\n",
    "#print(Xtrain.shape, X_val.shape)"
   ]
  },
  {
   "cell_type": "code",
   "execution_count": 11,
   "metadata": {},
   "outputs": [
    {
     "name": "stdout",
     "output_type": "stream",
     "text": [
      "dict_keys(['fit_time', 'score_time', 'test_score', 'train_score'])\n",
      "Train -1.3327252107955192\n",
      "Test [-0.92668643 -1.88844671 -2.04140193 -2.31625593 -0.36900528]\n"
     ]
    }
   ],
   "source": [
    "from tensorflow.keras.models import Sequential\n",
    "from tensorflow.keras.layers import Dense, Dropout, Activation, Flatten,BatchNormalization\n",
    "from tensorflow.keras.layers import Conv2D, MaxPooling2D\n",
    "from numpy import mean\n",
    "from numpy import std\n",
    "from sklearn.datasets import make_classification\n",
    "from sklearn.model_selection import KFold\n",
    "from sklearn.model_selection import cross_val_score\n",
    "from sklearn.model_selection import cross_validate\n",
    "from keras.wrappers.scikit_learn import KerasClassifier\n",
    "# Model\n",
    "def getModel():\n",
    "    model = Sequential()\n",
    "    model.add(Conv2D(64, kernel_size=4,activation='relu', input_shape=(410,30,1)))\n",
    "    model.add(Conv2D(32, kernel_size=3, activation='linear'))\n",
    "    model.add(Flatten())\n",
    "    model.add(Dense(1, activation='linear'))\n",
    "    model.compile(loss='mse',optimizer='adam')\n",
    "    #model_history=model.fit(Xtrain, Ytrain, batch_size=1, epochs=35, verbose=1, validation_data=(X_val, Y_val))\n",
    "    return model\n",
    "\n",
    "cv = KFold(n_splits=5, random_state=1, shuffle=True)\n",
    "model = KerasClassifier(build_fn=getModel, verbose=1, epochs=15)\n",
    "scores = cross_validate(estimator = model, X=Xtrain, y=Ytrain, scoring='neg_mean_squared_error', cv=cv, n_jobs=-1,return_train_score=True)\n",
    "\n",
    "print(scores.keys())\n",
    "print('Train', mean(scores['train_score']))\n",
    "print('Test', scores['test_score'])\n",
    "#print('MSE: %.3f (%.3f)' % (mean(scores), std(scores)))"
   ]
  },
  {
   "cell_type": "code",
   "execution_count": 12,
   "metadata": {},
   "outputs": [
    {
     "data": {
      "text/plain": [
       "-1.5083592548187648"
      ]
     },
     "execution_count": 12,
     "metadata": {},
     "output_type": "execute_result"
    }
   ],
   "source": [
    "mean(scores['test_score'])"
   ]
  },
  {
   "cell_type": "code",
   "execution_count": null,
   "metadata": {},
   "outputs": [],
   "source": []
  }
 ],
 "metadata": {
  "kernelspec": {
   "display_name": "Python 3",
   "language": "python",
   "name": "python3"
  },
  "language_info": {
   "codemirror_mode": {
    "name": "ipython",
    "version": 3
   },
   "file_extension": ".py",
   "mimetype": "text/x-python",
   "name": "python",
   "nbconvert_exporter": "python",
   "pygments_lexer": "ipython3",
   "version": "3.7.8"
  }
 },
 "nbformat": 4,
 "nbformat_minor": 4
}
